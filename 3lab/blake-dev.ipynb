{
 "cells": [
  {
   "cell_type": "code",
   "execution_count": 1,
   "id": "c235ec8d-8d2d-499a-9b5f-630c617d08b0",
   "metadata": {},
   "outputs": [],
   "source": [
    "from c45 import c45, c45Node\n",
    "import numpy as np\n",
    "import pandas as pd\n",
    "import random\n",
    "from collections import Counter\n",
    "from modified_csv import csv_handler\n",
    "class random_forest:\n",
    "    def __init__(self, num_attributes = 0, num_data_points = 0, num_trees = 10, split_metric=\"Gain\", threshold=0.5, attribute_types=None):\n",
    "        self.forest = []\n",
    "        self.num_data_points = num_data_points #k in notes\n",
    "        self.num_attributes = num_attributes #m in notes\n",
    "        self.num_trees = num_trees #n in notes\n",
    "        self.threshold = threshold\n",
    "        self.split_metric = split_metric  #\"Gain\" or \"Ratio\" from my c45\n",
    "        \n",
    "        self.attribute_types = attribute_types if attribute_types is not None else {} #it needs this for numeric vs categorical\n",
    "\n",
    "    \n",
    "\n",
    "    def create_decision_tree(self, training, truth):\n",
    "        tree = c45(split_metric=self.split_metric, threshold=self.threshold, attribute_types=chosen_attr_types)\n",
    "        tree.fit(training, truth)\n",
    "        return tree\n",
    "    \n",
    "    def fit(self, training_set, truth): #X, Y #mine uses the label of the truth\n",
    "        self.forest = []\n",
    "        all_attributes = [col for col in training_set.columns if col != truth]\n",
    "        if self.num_attributes > len(all_attributes):\n",
    "            raise ValueError(\"num_attributes requested is greater than the number of available attributes\")\n",
    "        for i in range(self.num_trees):\n",
    "            data_sample = training_set.sample(n=self.num_data_points, replace=True)\n",
    "            #randomly sample data/attributes w/replacement np.random\n",
    "            chosen_features = np.random.choice(all_attributes, size=self.num_attributes, replace=False)\n",
    "            chosen_features = list(chosen_features)\n",
    "            chosen_attr_types = {feature: self.attribute_types[feature] for feature in chosen_features}\n",
    "            \n",
    "            subset = data_sample[chosen_features + [truth]]\n",
    "            tree = self.create_decision_tree(subset, truth, chosen_attr_types)\n",
    "            self.forest.append(tree)\n",
    "        \n",
    "        \n",
    "        \"\"\"The .fit() method. The .fit() method takes as input two parameters, X- the training set, and Y- the ground truth. It creates a random forest \n",
    "        consisting of NumTree decision trees, each tree created by randomly sampling the data with replacement, and randomly sampling the attributes \n",
    "        without replacement (using the NumDataPoints and NumAttributes values for guidance), and built by a call to C45 with the inputs created. \n",
    "        In implementing .fit() you may build helper functions that perform individual tree creation. Your instance of the RandomForest class shall \n",
    "        have a class variable or variables that store the built model (a forest of decision tree) for further use\"\"\"\n",
    "    \n",
    "    def majority_vote(self, votes):\n",
    "        \"\"\"\n",
    "           return majority, else in case of a tie, return the smallest label (lexicographically or numerically).\"\"\"\n",
    "        counts = Counter(votes)\n",
    "        max_votes = max(counts.values())\n",
    "        candidates = [vote for vote, count in counts.items() if count == max_votes]\n",
    "        return sorted(candidates)[0]\n",
    "    \n",
    "    def predict(self, x_test):\n",
    "        \"\"\"\n",
    "        For each sample in x_test, each tree in the forest produces a prediction.\n",
    "        The final prediction is determined by majority vote across trees.\n",
    "        x_test is expected to have all the original features. Each tree will\n",
    "        only use the features it was trained on.\n",
    "        \"\"\"\n",
    "        all_tree_preds = [tree.predict(x_test) for tree in self.forest]\n",
    "        num_samples = len(x_test)\n",
    "        combined_preds = []\n",
    "        for i in range(num_samples):\n",
    "            votes = [preds[i] for preds in all_tree_preds]\n",
    "            combined_pred = self.majority_vote(votes)\n",
    "            combined_preds.append(combined_pred)\n",
    "        return combined_preds\n",
    "            \n",
    "        \"\"\"The .predict() method. The .predict() method takes as input one parameter, X- the test set, and outputs a vector of predictions- \n",
    "        one prediction per observation/row in X. The .predict() method essentially acts as a wrapper around the calls to the c45.predict() on each decision tree \n",
    "        that forms your random forest. After each decision tree reports its prediction on a given data point (or all its predictions on all data points from X), \n",
    "        the RandomForest.predict() shall combine them and form a single prediction for each input row of data. Any ties shall be resolved in an arbitrary but consistent way \n",
    "        (e.g., by selecting the smaller (numerically, or lexicographically) label).\"\"\"\n",
    "        \n",
    "\n",
    "\n",
    "            \n",
    "        \n",
    "        \n",
    "        \n",
    "        "
   ]
  },
  {
   "cell_type": "code",
   "execution_count": 2,
   "id": "2a51ef61-3821-475c-84d2-1a963a859beb",
   "metadata": {},
   "outputs": [
    {
     "name": "stdout",
     "output_type": "stream",
     "text": [
      "['T', 'T', 'T', 'F', 'F', 'T', 'T', 'T', 'F', 'F', 'T', 'T', 'T', 'F', 'F', 'T', 'T', 'T', 'F', 'F']\n"
     ]
    }
   ],
   "source": [
    "filepath = 'lab2/Data/Balloons/adult-stretch.csv'\n",
    "test, target, type2 = csv_handler(filepath)\n",
    "#\n",
    "rf_test = random_forest(num_attributes = 2, num_data_points = 10, num_trees = 10, split_metric=\"Gain\", threshold=0.1, attribute_types=type2)\n",
    "trying = c45(split_metric = \"Gain\", threshold=0.1)\n",
    "trying.fit(test, target)\n",
    "print(trying.predict(test))\n",
    "# #\tInflated\n",
    "# 3\tT\n",
    "# 4\tT\n",
    "# 5\tT\n",
    "# 6\tF\n",
    "# 7\tF\n",
    "# 8\tT\n",
    "# 9\tT\n",
    "# 10\tT\n",
    "# 11\tF\n",
    "# 12\tF\n",
    "# 13\tT\n",
    "# 14\tT\n",
    "# 15\tT\n",
    "# 16\tF\n",
    "# 17\tF\n",
    "# 18\tT\n",
    "# 19\tT\n",
    "# 20\tT\n",
    "# 21\tF\n",
    "# 22\tF"
   ]
  },
  {
   "cell_type": "code",
   "execution_count": 3,
   "id": "48c5c08d-a2ef-4f82-a771-34297f972196",
   "metadata": {},
   "outputs": [
    {
     "name": "stdout",
     "output_type": "stream",
     "text": [
      "['Iris-setosa', 'Iris-setosa', 'Iris-setosa', 'Iris-setosa', 'Iris-setosa', 'Iris-setosa', 'Iris-setosa', 'Iris-setosa', 'Iris-setosa', 'Iris-setosa', 'Iris-setosa', 'Iris-setosa', 'Iris-setosa', 'Iris-setosa', 'Iris-setosa', 'Iris-setosa', 'Iris-setosa', 'Iris-setosa', 'Iris-setosa', 'Iris-setosa', 'Iris-setosa', 'Iris-setosa', 'Iris-setosa', 'Iris-setosa', 'Iris-setosa', 'Iris-setosa', 'Iris-setosa', 'Iris-setosa', 'Iris-setosa', 'Iris-setosa', 'Iris-setosa', 'Iris-setosa', 'Iris-setosa', 'Iris-setosa', 'Iris-setosa', 'Iris-setosa', 'Iris-setosa', 'Iris-setosa', 'Iris-setosa', 'Iris-setosa', 'Iris-setosa', 'Iris-setosa', 'Iris-setosa', 'Iris-setosa', 'Iris-setosa', 'Iris-setosa', 'Iris-setosa', 'Iris-setosa', 'Iris-setosa', 'Iris-setosa', 'Iris-versicolor', 'Iris-versicolor', 'Iris-versicolor', 'Iris-versicolor', 'Iris-versicolor', 'Iris-versicolor', 'Iris-versicolor', 'Iris-versicolor', 'Iris-versicolor', 'Iris-versicolor', 'Iris-versicolor', 'Iris-versicolor', 'Iris-versicolor', 'Iris-versicolor', 'Iris-versicolor', 'Iris-versicolor', 'Iris-versicolor', 'Iris-versicolor', 'Iris-versicolor', 'Iris-versicolor', 'Iris-versicolor', 'Iris-versicolor', 'Iris-versicolor', 'Iris-versicolor', 'Iris-versicolor', 'Iris-versicolor', 'Iris-versicolor', 'Iris-versicolor', 'Iris-versicolor', 'Iris-versicolor', 'Iris-versicolor', 'Iris-versicolor', 'Iris-versicolor', 'Iris-versicolor', 'Iris-versicolor', 'Iris-versicolor', 'Iris-versicolor', 'Iris-versicolor', 'Iris-versicolor', 'Iris-versicolor', 'Iris-versicolor', 'Iris-versicolor', 'Iris-versicolor', 'Iris-versicolor', 'Iris-versicolor', 'Iris-versicolor', 'Iris-versicolor', 'Iris-versicolor', 'Iris-versicolor', 'Iris-versicolor', 'Iris-virginica', 'Iris-virginica', 'Iris-virginica', 'Iris-virginica', 'Iris-virginica', 'Iris-virginica', 'Iris-virginica', 'Iris-virginica', 'Iris-virginica', 'Iris-virginica', 'Iris-virginica', 'Iris-virginica', 'Iris-virginica', 'Iris-virginica', 'Iris-virginica', 'Iris-virginica', 'Iris-virginica', 'Iris-virginica', 'Iris-virginica', 'Iris-virginica', 'Iris-virginica', 'Iris-virginica', 'Iris-virginica', 'Iris-virginica', 'Iris-virginica', 'Iris-virginica', 'Iris-virginica', 'Iris-virginica', 'Iris-virginica', 'Iris-virginica', 'Iris-virginica', 'Iris-virginica', 'Iris-virginica', 'Iris-virginica', 'Iris-virginica', 'Iris-virginica', 'Iris-virginica', 'Iris-virginica', 'Iris-virginica', 'Iris-virginica', 'Iris-virginica', 'Iris-virginica', 'Iris-virginica', 'Iris-virginica', 'Iris-virginica', 'Iris-virginica', 'Iris-virginica', 'Iris-virginica', 'Iris-virginica', 'Iris-virginica']\n"
     ]
    }
   ],
   "source": [
    "filepath = 'lab2/Data/Iris/iris.data.csv'\n",
    "test, target, type2 = csv_handler(filepath)\n",
    "rf_test_iris = random_forest(num_attributes = 2, num_data_points = 10, num_trees = 10, split_metric=\"Gain\", threshold=0.1, attribute_types=type2)\n",
    "trying_iris = c45(split_metric = \"Gain\", threshold=0.1)\n",
    "trying_iris.fit(test, target)\n",
    "print(trying_iris.predict(test))"
   ]
  }
 ],
 "metadata": {
  "kernelspec": {
   "display_name": "Python [conda env:root] *",
   "language": "python",
   "name": "conda-root-py"
  },
  "language_info": {
   "codemirror_mode": {
    "name": "ipython",
    "version": 3
   },
   "file_extension": ".py",
   "mimetype": "text/x-python",
   "name": "python",
   "nbconvert_exporter": "python",
   "pygments_lexer": "ipython3",
   "version": "3.8.8"
  }
 },
 "nbformat": 4,
 "nbformat_minor": 5
}
